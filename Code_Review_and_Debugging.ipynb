{
 "cells": [
  {
   "cell_type": "markdown",
   "id": "d1aca98e",
   "metadata": {},
   "source": [
    "\n",
    "# 📌 Code Review and Debugging in AI Systems\n",
    "\n",
    "### **Overview**\n",
    "This notebook demonstrates how to **review, debug, and optimize Python code** using **code analysis, logging, unit testing, and CI/CD integration**.\n",
    "\n",
    "---\n",
    "## **1️⃣ Code Review Script**\n",
    "We will write a script to analyze Python files for inefficiencies, such as:\n",
    "- **Nested loops** that reduce performance\n",
    "- **Unused imports**\n",
    "\n",
    "---\n"
   ]
  },
  {
   "cell_type": "code",
   "execution_count": null,
   "id": "d8c60d4a",
   "metadata": {},
   "outputs": [],
   "source": [
    "\n",
    "import ast\n",
    "\n",
    "def analyze_python_script(file_path):\n",
    "    \"\"\"Analyze a Python script for inefficient code and unused imports.\"\"\"\n",
    "    with open(file_path, \"r\", encoding=\"utf-8\") as file:\n",
    "        tree = ast.parse(file.read())\n",
    "\n",
    "    issues = []\n",
    "    \n",
    "    # Check for inefficient loops (nested loops)\n",
    "    for node in ast.walk(tree):\n",
    "        if isinstance(node, ast.For) and any(isinstance(child, ast.For) for child in ast.walk(node)):\n",
    "            issues.append(f\"Inefficient nested loop found at line {node.lineno}\")\n",
    "\n",
    "    # Check for unused imports\n",
    "    imported_modules = {node.names[0].name for node in tree.body if isinstance(node, ast.Import)}\n",
    "    used_modules = {node.id for node in ast.walk(tree) if isinstance(node, ast.Name)}\n",
    "    unused_imports = imported_modules - used_modules\n",
    "\n",
    "    for unused in unused_imports:\n",
    "        issues.append(f\"Unused import: {unused}\")\n",
    "\n",
    "    return issues\n",
    "\n",
    "# Example usage\n",
    "file_to_check = \"example_script.py\"  # Replace with your Python file\n",
    "issues = analyze_python_script(file_to_check)\n",
    "\n",
    "if issues:\n",
    "    print(\"⚠️ Code Review Issues Found:\")\n",
    "    for issue in issues:\n",
    "        print(f\"- {issue}\")\n",
    "else:\n",
    "    print(\"✅ No issues found!\")\n"
   ]
  },
  {
   "cell_type": "markdown",
   "id": "f773ae61",
   "metadata": {},
   "source": [
    "\n",
    "---\n",
    "## **2️⃣ Example Python Code with Issues**\n",
    "This script contains inefficiencies:\n",
    "- **Unused import** (`numpy`)\n",
    "- **Nested loop** causing performance issues\n",
    "\n",
    "Below is the Python file that we will analyze:\n"
   ]
  },
  {
   "cell_type": "code",
   "execution_count": null,
   "id": "f9365e68",
   "metadata": {},
   "outputs": [],
   "source": [
    "\n",
    "import numpy as np  # Unused import\n",
    "import random\n",
    "\n",
    "# Function with an inefficient nested loop\n",
    "def slow_function(numbers):\n",
    "    result = []\n",
    "    for i in numbers:\n",
    "        for j in numbers:  # Inefficient nested loop\n",
    "            if i * j > 10:\n",
    "                result.append((i, j))\n",
    "    return result\n",
    "\n",
    "data = [random.randint(1, 5) for _ in range(5)]\n",
    "print(slow_function(data))\n"
   ]
  },
  {
   "cell_type": "markdown",
   "id": "8ea30b93",
   "metadata": {},
   "source": [
    "\n",
    "---\n",
    "## **3️⃣ Optimizing the Code**\n",
    "We will:\n",
    "✅ Remove the **unused import** (`numpy`)  \n",
    "✅ Replace **nested loops** with a more efficient approach  \n"
   ]
  },
  {
   "cell_type": "code",
   "execution_count": null,
   "id": "727bc1d1",
   "metadata": {},
   "outputs": [],
   "source": [
    "\n",
    "import random\n",
    "\n",
    "# Optimized function using list comprehension\n",
    "def optimized_function(numbers):\n",
    "    return [(i, j) for i in numbers for j in numbers if i * j > 10]\n",
    "\n",
    "data = [random.randint(1, 5) for _ in range(5)]\n",
    "print(optimized_function(data))\n"
   ]
  },
  {
   "cell_type": "markdown",
   "id": "ce7c1bbe",
   "metadata": {},
   "source": [
    "\n",
    "---\n",
    "## **4️⃣ Logging & Debugging**\n",
    "Adding logs helps track issues and analyze runtime performance.\n"
   ]
  },
  {
   "cell_type": "code",
   "execution_count": null,
   "id": "f8d92499",
   "metadata": {},
   "outputs": [],
   "source": [
    "\n",
    "import logging\n",
    "\n",
    "logging.basicConfig(level=logging.INFO, format=\"%(asctime)s - %(levelname)s - %(message)s\")\n",
    "\n",
    "def optimized_function(numbers):\n",
    "    logging.info(f\"Processing {len(numbers)} numbers\")\n",
    "    return [(i, j) for i in numbers for j in numbers if i * j > 10]\n",
    "\n",
    "data = [random.randint(1, 5) for _ in range(5)]\n",
    "result = optimized_function(data)\n",
    "logging.info(f\"Result: {result}\")\n"
   ]
  },
  {
   "cell_type": "markdown",
   "id": "ea824783",
   "metadata": {},
   "source": [
    "\n",
    "---\n",
    "## **5️⃣ Unit Testing**\n",
    "We use **pytest** to validate our optimized function.\n"
   ]
  },
  {
   "cell_type": "code",
   "execution_count": null,
   "id": "16a3b54a",
   "metadata": {},
   "outputs": [],
   "source": [
    "\n",
    "import pytest\n",
    "\n",
    "# Import the function from the optimized script\n",
    "from optimized_script import optimized_function\n",
    "\n",
    "def test_optimized_function():\n",
    "    assert optimized_function([2, 5, 7]) == [(5, 7), (7, 5), (7, 7)]\n",
    "\n",
    "if __name__ == \"__main__\":\n",
    "    pytest.main()\n"
   ]
  },
  {
   "cell_type": "markdown",
   "id": "5c319580",
   "metadata": {},
   "source": [
    "\n",
    "---\n",
    "## **6️⃣ CI/CD Integration (GitHub Actions)**\n",
    "Automate testing using **GitHub Actions**.\n",
    "\n",
    "📌 **`.github/workflows/code_review.yml`**\n",
    "```yaml\n",
    "name: Code Review & Testing\n",
    "\n",
    "on:\n",
    "  push:\n",
    "    branches:\n",
    "      - main\n",
    "\n",
    "jobs:\n",
    "  test:\n",
    "    runs-on: ubuntu-latest\n",
    "    steps:\n",
    "      - name: Checkout code\n",
    "        uses: actions/checkout@v3\n",
    "\n",
    "      - name: Set up Python\n",
    "        uses: actions/setup-python@v3\n",
    "        with:\n",
    "          python-version: '3.8'\n",
    "\n",
    "      - name: Install dependencies\n",
    "        run: pip install pytest\n",
    "\n",
    "      - name: Run tests\n",
    "        run: pytest\n",
    "```\n",
    "✅ This workflow:\n",
    "1. Runs **unit tests**\n",
    "2. Checks for **code review issues**  \n",
    "3. Automates **debugging detection**  \n"
   ]
  },
  {
   "cell_type": "markdown",
   "id": "4a4f8d4d",
   "metadata": {},
   "source": [
    "\n",
    "---\n",
    "## **📌 Summary**\n",
    "\n",
    "| Feature | Implementation |\n",
    "|---------|---------------|\n",
    "| 🔍 **Code Review** | Scans Python scripts for inefficiencies |\n",
    "| 🚀 **Performance Optimization** | Eliminates nested loops and unused imports |\n",
    "| 📊 **Logging & Debugging** | Adds logs for better issue tracking |\n",
    "| 🧪 **Unit Testing** | Uses `pytest` to validate functions |\n",
    "| ⚡ **CI/CD Integration** | Automates testing with GitHub Actions |\n",
    "\n",
    "  \n",
    "\n"
   ]
  },
  {
   "cell_type": "markdown",
   "id": "ff3d4183",
   "metadata": {},
   "source": []
  }
 ],
 "metadata": {
  "language_info": {
   "name": "python"
  }
 },
 "nbformat": 4,
 "nbformat_minor": 5
}
