{
 "cells": [
  {
   "cell_type": "markdown",
   "id": "1114163c-40f8-4c78-afb4-d73affbdb190",
   "metadata": {},
   "source": [
    "# 📊 Machine Learning-Based Financial Data Analysis & Forecasting\n",
    "### Tools Used: Python, Pandas, Scikit-Learn, Matplotlib, Seaborn, Power BI"
   ]
  },
  {
   "cell_type": "markdown",
   "id": "efaf07f5-8c47-4c80-8fc2-1c6070c3c28c",
   "metadata": {},
   "source": [
    "#### 1️⃣ Introduction\n",
    "##### In this notebook, we will:\n",
    "\n",
    "##### Analyze synthetic financial data\n",
    "##### Predict profit trends using Machine Learning\n",
    "##### Automate preprocessing pipelines\n",
    "##### Enhance model performance via advanced techniques\n",
    "##### Prepare data for Power BI dashboards"
   ]
  },
  {
   "cell_type": "markdown",
   "id": "f50b4838-7f80-4bb1-b87f-ad4ddb0ddf18",
   "metadata": {},
   "source": [
    "\n",
    "\n",
    "#### 2️⃣ Import Libraries"
   ]
  },
  {
   "cell_type": "code",
   "execution_count": 2,
   "id": "1dad18b8-8918-482a-ab83-60898b147e9b",
   "metadata": {},
   "outputs": [],
   "source": [
    "import pandas as pd\n",
    "import numpy as np\n",
    "import matplotlib.pyplot as plt\n",
    "import seaborn as sns\n",
    "\n",
    "from sklearn.model_selection import train_test_split, cross_val_score, KFold\n",
    "from sklearn.preprocessing import StandardScaler, PolynomialFeatures\n",
    "from sklearn.pipeline import Pipeline\n",
    "from sklearn.linear_model import LinearRegression\n",
    "from sklearn.ensemble import RandomForestRegressor\n",
    "from sklearn.metrics import mean_squared_error, r2_score"
   ]
  },
  {
   "cell_type": "markdown",
   "id": "0c09ad09-3808-4ea2-8edd-ecb0b7faf5c8",
   "metadata": {},
   "source": [
    "##### Explanation:\n",
    "##### We import essential libraries for data handling, visualization, and machine learning."
   ]
  },
  {
   "cell_type": "markdown",
   "id": "19996acc-85ca-4927-83a3-83d51654fc9b",
   "metadata": {},
   "source": [
    "#### 3️⃣ Generate Big Synthetic Financial Dataset"
   ]
  },
  {
   "cell_type": "code",
   "execution_count": 12,
   "id": "f5edcc1a-8e98-40df-8914-5d5d4c616af1",
   "metadata": {},
   "outputs": [],
   "source": [
    "np.random.seed(42)\n",
    "date_range = pd.date_range(start='2015-01-01', periods=2000, freq='D')\n",
    "\n",
    "data = pd.DataFrame({\n",
    "    'Date': date_range,\n",
    "    'Revenue': np.random.normal(10000, 2000, len(date_range)),\n",
    "    'Expenses': np.random.normal(5000, 1000, len(date_range)),\n",
    "    'Marketing_Spend': np.random.normal(2000, 500, len(date_range)),\n",
    "    'Economic_Index': np.random.normal(100, 10, len(date_range))\n",
    "})\n",
    "\n",
    "data['Profit'] = data['Revenue'] - data['Expenses']"
   ]
  },
  {
   "cell_type": "markdown",
   "id": "52f2e66d-8781-4e58-88ba-133b4d3462df",
   "metadata": {},
   "source": [
    "##### Explanation:\n",
    "##### We simulate 2000 days of financial data, including revenue, expenses, marketing spend, and economic index.\n",
    "##### Profit is calculated as revenue minus expenses."
   ]
  },
  {
   "cell_type": "markdown",
   "id": "6766b5aa-ca68-43de-8ed3-ba8d3732bbff",
   "metadata": {},
   "source": [
    "#### 4️⃣ Data Cleaning: Handling Missing Values & Outliers"
   ]
  },
  {
   "cell_type": "code",
   "execution_count": 4,
   "id": "3f4a27c5-313e-434a-81d2-9521d4aa0184",
   "metadata": {},
   "outputs": [],
   "source": [
    "# Introduce some NaNs\n",
    "data.loc[data.sample(frac=0.01).index, 'Economic_Index'] = np.nan\n",
    "data['Economic_Index'].fillna(data['Economic_Index'].mean(), inplace=True)\n",
    "\n",
    "# Outlier removal (optional)\n",
    "q_low = data['Profit'].quantile(0.01)\n",
    "q_high = data['Profit'].quantile(0.99)\n",
    "data = data[(data['Profit'] > q_low) & (data['Profit'] < q_high)]"
   ]
  },
  {
   "cell_type": "markdown",
   "id": "c5f0c235-26ea-49ea-86bf-ace27ba3b458",
   "metadata": {},
   "source": [
    "##### Explanation:\n",
    "##### We simulate real-world messy data by introducing missing values and handle them with mean imputation.\n",
    "##### We also remove extreme outliers to improve model performance."
   ]
  },
  {
   "cell_type": "markdown",
   "id": "31d59007-40f4-4bca-a53d-6ed71b3e7f8d",
   "metadata": {},
   "source": [
    "#### 5️⃣ Exploratory Data Analysis (EDA)"
   ]
  },
  {
   "cell_type": "code",
   "execution_count": 14,
   "id": "4f708e3b-4cff-4494-97e0-f6fcbf0d0698",
   "metadata": {},
   "outputs": [
    {
     "data": {
      "image/png": "[encoded data removed]",
      "text/plain": [
       "<Figure size 800x600 with 2 Axes>"
      ]
     },
     "metadata": {},
     "output_type": "display_data"
    }
   ],
   "source": [
    "import seaborn as sns\n",
    "import matplotlib.pyplot as plt\n",
    "import pandas as pd\n",
    "import numpy as np\n",
    "\n",
    "# Example dataset with a Timestamp column\n",
    "data = pd.DataFrame({\n",
    "    'timestamp': pd.date_range(start='2023-01-01', periods=10, freq='D'),\n",
    "    'value1': np.random.rand(10),\n",
    "    'value2': np.random.rand(10)\n",
    "})\n",
    "\n",
    "# Drop the Timestamp column (or convert it to numerical values)\n",
    "data_numeric = data.drop(columns=['timestamp'])  # Drop non-numeric columns\n",
    "# OR\n",
    "# data['timestamp'] = data['timestamp'].apply(lambda x: x.timestamp())  # Convert to numerical values\n",
    "\n",
    "# Plot the heatmap\n",
    "plt.figure(figsize=(8, 6))\n",
    "sns.heatmap(data_numeric, annot=True, cmap=\"viridis\")\n",
    "plt.title(\"Correlation Heatmap\")\n",
    "plt.show()"
   ]
  },
  {
   "cell_type": "markdown",
   "id": "786b4085-bfa4-4868-9cb6-8d5c15245b2c",
   "metadata": {},
   "source": [
    "##### Explanation:\n",
    "##### We explore relationships between features using a correlation heatmap. This guides our feature selection and understanding."
   ]
  },
  {
   "cell_type": "markdown",
   "id": "6b73f8ee-1672-4baa-87a3-555ce630081e",
   "metadata": {},
   "source": [
    "#### 6️⃣ Prepare Data for Modeling"
   ]
  },
  {
   "cell_type": "code",
   "execution_count": 6,
   "id": "2de2b96a-6865-4fe7-898b-07c012321151",
   "metadata": {},
   "outputs": [],
   "source": [
    "X = data[['Revenue', 'Expenses', 'Marketing_Spend', 'Economic_Index']]\n",
    "y = data['Profit']"
   ]
  },
  {
   "cell_type": "markdown",
   "id": "3cdcc637-5ab1-482b-acbc-39ee983d7f6e",
   "metadata": {},
   "source": [
    "#### 7️⃣ Building ML Pipelines: Linear Regression & Random Forest"
   ]
  },
  {
   "cell_type": "code",
   "execution_count": 7,
   "id": "e86fc553-4860-468e-9911-89f34aff7041",
   "metadata": {},
   "outputs": [],
   "source": [
    "# Pipeline with scaling + linear regression\n",
    "pipeline_lr = Pipeline([\n",
    "    ('scaler', StandardScaler()),\n",
    "    ('regressor', LinearRegression())\n",
    "])\n",
    "\n",
    "# Pipeline with Random Forest\n",
    "pipeline_rf = Pipeline([\n",
    "    ('scaler', StandardScaler()),\n",
    "    ('regressor', RandomForestRegressor(n_estimators=100, random_state=42))\n",
    "])\n",
    "\n",
    "# Train-Test Split\n",
    "X_train, X_test, y_train, y_test = train_test_split(X, y, test_size=0.2, random_state=42)"
   ]
  },
  {
   "cell_type": "markdown",
   "id": "d5ceb97c-f86c-4563-9285-3227f42aad2f",
   "metadata": {},
   "source": [
    "##### Explanation:\n",
    "##### Pipelines automate scaling and model training in one step.\n",
    "##### We compare both a simple Linear Regression and more powerful Random Forest model."
   ]
  },
  {
   "cell_type": "markdown",
   "id": "eea40a2c-d6fc-44b8-ab98-dfc06b16acd9",
   "metadata": {},
   "source": [
    "#### 8️⃣ Model Evaluation with Cross-Validation"
   ]
  },
  {
   "cell_type": "code",
   "execution_count": 16,
   "id": "f9471917-6522-4752-a081-5c2c064708f4",
   "metadata": {},
   "outputs": [
    {
     "name": "stdout",
     "output_type": "stream",
     "text": [
      "Linear Regression CV R² Scores: [1. 1. 1. 1. 1.]\n",
      "Random Forest CV R² Scores: [0.99518552 0.99522514 0.99745617 0.99715334 0.9915964 ]\n"
     ]
    }
   ],
   "source": [
    "from sklearn.model_selection import KFold, cross_val_score\n",
    "\n",
    "# Cross-validation\n",
    "cv = KFold(n_splits=5, shuffle=True, random_state=42)\n",
    "\n",
    "lr_cv_scores = cross_val_score(pipeline_lr, X_train, y_train, cv=cv, scoring='r2')\n",
    "rf_cv_scores = cross_val_score(pipeline_rf, X_train, y_train, cv=cv, scoring='r2')\n",
    "\n",
    "print(f\"Linear Regression CV R² Scores: {lr_cv_scores}\")\n",
    "print(f\"Random Forest CV R² Scores: {rf_cv_scores}\")"
   ]
  },
  {
   "cell_type": "markdown",
   "id": "3f2bc8de-63f1-40fd-aa0e-43e778c03f1c",
   "metadata": {},
   "source": [
    "#### 9️⃣ Train Random Forest & Evaluate"
   ]
  },
  {
   "cell_type": "code",
   "execution_count": 18,
   "id": "11eb84ad-b8ae-4881-8d1e-e6688a2617ff",
   "metadata": {
    "scrolled": true
   },
   "outputs": [
    {
     "name": "stdout",
     "output_type": "stream",
     "text": [
      "Random Forest Test MSE: 11513.30\n",
      "Random Forest Test R²: 1.00\n"
     ]
    }
   ],
   "source": [
    "from sklearn.metrics import mean_squared_error, r2_score\n",
    "\n",
    "# Fit and predict\n",
    "pipeline_rf.fit(X_train, y_train)\n",
    "y_pred = pipeline_rf.predict(X_test)\n",
    "\n",
    "mse = mean_squared_error(y_test, y_pred)\n",
    "r2 = r2_score(y_test, y_pred)\n",
    "\n",
    "print(f\"Random Forest Test MSE: {mse:.2f}\")\n",
    "print(f\"Random Forest Test R²: {r2:.2f}\")"
   ]
  },
  {
   "cell_type": "markdown",
   "id": "01a7d34b-0a50-46a9-a9f4-4f30daeb2488",
   "metadata": {},
   "source": [
    "#### 🔟 Feature Importance Visualization"
   ]
  },
  {
   "cell_type": "code",
   "execution_count": 19,
   "id": "a85989a9-51ef-4720-b157-43c1d51901fc",
   "metadata": {},
   "outputs": [
    {
     "data": {
      "image/png": "[encoded data removed]",
      "text/plain": [
       "<Figure size 640x480 with 1 Axes>"
      ]
     },
     "metadata": {},
     "output_type": "display_data"
    }
   ],
   "source": [
    "import matplotlib.pyplot as plt\n",
    "\n",
    "# Get feature importances from the Random Forest model\n",
    "importances = pipeline_rf.named_steps['regressor'].feature_importances_\n",
    "features = X.columns\n",
    "\n",
    "# Plot feature importances\n",
    "plt.barh(features, importances)\n",
    "plt.xlabel(\"Feature Importance\")  # Fixed line\n",
    "plt.title(\"Which Factors Impact Profit?\")  # Fixed line\n",
    "plt.show()"
   ]
  },
  {
   "cell_type": "markdown",
   "id": "23bddc0f-04c4-4b72-9595-30a897817de8",
   "metadata": {},
   "source": [
    "#### 🔄 Export Cleaned Data for Power BI"
   ]
  },
  {
   "cell_type": "code",
   "execution_count": 20,
   "id": "40c24fd3-ded2-41f3-a298-fba277c49a71",
   "metadata": {},
   "outputs": [
    {
     "name": "stdout",
     "output_type": "stream",
     "text": [
      "Data saved for Power BI!\n"
     ]
    }
   ],
   "source": [
    "data.to_csv(\"financial_data_cleaned.csv\", index=False)\n",
    "print(\"Data saved for Power BI!\")"
   ]
  }
 ],
 "metadata": {
  "kernelspec": {
   "display_name": "Python 3 (ipykernel)",
   "language": "python",
   "name": "python3"
  },
  "language_info": {
   "codemirror_mode": {
    "name": "ipython",
    "version": 3
   },
   "file_extension": ".py",
   "mimetype": "text/x-python",
   "name": "python",
   "nbconvert_exporter": "python",
   "pygments_lexer": "ipython3",
   "version": "3.11.8"
  }
 },
 "nbformat": 4,
 "nbformat_minor": 5
}
